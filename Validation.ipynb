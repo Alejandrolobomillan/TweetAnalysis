{
 "cells": [
  {
   "cell_type": "code",
   "execution_count": 2,
   "metadata": {},
   "outputs": [
    {
     "name": "stdout",
     "output_type": "stream",
     "text": [
      "\n",
      "Single Fold Validation Results:\n",
      "Accuracy: 0.6037053773158608\n",
      "\n",
      "K-Fold Cross-Validation Results:\n",
      "Average accuracy: 0.5919848282607657\n"
     ]
    }
   ],
   "source": [
    "%matplotlib inline\n",
    "import pandas\n",
    "import matplotlib.pyplot as plt\n",
    "import numpy as np\n",
    "import seaborn as sns\n",
    "import sklearn                        \n",
    "import sklearn.datasets as ds           \n",
    "import sklearn.model_selection as cv   \n",
    "import sklearn.neighbors as nb \n",
    "from sklearn.neighbors import KNeighborsClassifier\n",
    "from sklearn.model_selection import cross_val_score  \n",
    "from sklearn.metrics import f1_score, classification_report, confusion_matrix\n",
    "from sklearn.feature_selection import SelectKBest, f_classif \n",
    "import warnings\n",
    "warnings.filterwarnings(\"ignore\")\n",
    "from sklearn.model_selection import train_test_split, cross_val_score\n",
    "from sklearn.neighbors import KNeighborsClassifier\n",
    "from sklearn.metrics import accuracy_score\n",
    "\n",
    "# Cargar los datos (esto ya lo tienes)\n",
    "X = pandas.read_csv('X.csv', sep=',', na_values=\"\")\n",
    "y = pandas.read_csv('y.csv', sep=',', na_values=\"\")\n",
    "\n",
    "# 1. **Single Fold Validation** - División entre datos de entrenamiento y test (70-30)\n",
    "X_train, X_val, y_train, y_val = train_test_split(X, y, test_size=0.3, random_state=42)\n",
    "\n",
    "# Inicializar el clasificador KNN\n",
    "knn = KNeighborsClassifier(n_neighbors=5)\n",
    "\n",
    "# Entrenamiento del modelo\n",
    "knn.fit(X_train, y_train)\n",
    "\n",
    "# Predicciones\n",
    "y_pred = knn.predict(X_val)\n",
    "\n",
    "# Calcular la precisión y otras métricas\n",
    "accuracy = accuracy_score(y_val, y_pred)\n",
    "print(\"\\nSingle Fold Validation Results:\")\n",
    "print(f\"Accuracy: {accuracy}\")\n",
    "\n",
    "# 2. **K-Fold Cross-Validation** - Usando 5 pliegues\n",
    "cv = 10\n",
    "\n",
    "# Inicializar KNN nuevamente\n",
    "knn = KNeighborsClassifier(n_neighbors=5)\n",
    "\n",
    "# Realizar K-Fold Cross-Validation\n",
    "scores = cross_val_score(knn, X, y, cv=cv, scoring='accuracy')\n",
    "\n",
    "# Mostrar los resultados de la validación cruzada\n",
    "print(\"\\nK-Fold Cross-Validation Results:\")\n",
    "print(f\"Average accuracy: {scores.mean()}\")\n",
    "\n",
    "\n"
   ]
  },
  {
   "cell_type": "code",
   "execution_count": 5,
   "metadata": {},
   "outputs": [
    {
     "name": "stdout",
     "output_type": "stream",
     "text": [
      "Train: 70.0%, Validation: 10.0%, Test: 20.000000000000004%\n",
      "Validation Accuracy: 0.6597, Test Accuracy: 0.6748\n",
      "\n",
      "Train: 60.0%, Validation: 10.0%, Test: 30.000000000000004%\n",
      "Validation Accuracy: 0.6686, Test Accuracy: 0.6626\n",
      "\n",
      "Train: 50.0%, Validation: 20.0%, Test: 30.0%\n",
      "Validation Accuracy: 0.6781, Test Accuracy: 0.6599\n",
      "\n"
     ]
    }
   ],
   "source": [
    "from sklearn.tree import DecisionTreeClassifier\n",
    "from sklearn.model_selection import train_test_split\n",
    "from sklearn.metrics import accuracy_score\n",
    "\n",
    "# Ratios de Training, Validación y Test\n",
    "split_ratios = [(0.7, 0.1), (0.6, 0.1), (0.5, 0.2)]  # Train, Validation ratios\n",
    "results = []\n",
    "# Cargar los datos (esto ya lo tienes)\n",
    "X = pandas.read_csv('X.csv', sep=',', na_values=\"\")\n",
    "y = pandas.read_csv('y.csv', sep=',', na_values=\"\")\n",
    "\n",
    "for train_ratio, val_ratio in split_ratios:\n",
    "    # Primer paso: dividir en entrenamiento y temporal\n",
    "    X_train, X_temp, y_train, y_temp = train_test_split(X, y, test_size=1-train_ratio, random_state=42)\n",
    "\n",
    "    # Segundo paso: dividir el conjunto temporal en validación y prueba\n",
    "    X_val, X_test, y_val, y_test = train_test_split(\n",
    "        X_temp, y_temp, test_size=val_ratio/(val_ratio + (1-train_ratio-val_ratio)), random_state=42\n",
    "    )\n",
    "\n",
    "    # Crear y entrenar el modelo\n",
    "    model = DecisionTreeClassifier()\n",
    "    model.fit(X_train, y_train)\n",
    "\n",
    "    # Evaluar el modelo\n",
    "    val_accuracy = accuracy_score(y_val, model.predict(X_val))\n",
    "    test_accuracy = accuracy_score(y_test, model.predict(X_test))\n",
    "\n",
    "    # Guardar resultados\n",
    "    results.append({\n",
    "        'train_ratio': train_ratio,\n",
    "        'val_ratio': val_ratio,\n",
    "        'test_ratio': 1-train_ratio-val_ratio,\n",
    "        'val_accuracy': val_accuracy,\n",
    "        'test_accuracy': test_accuracy\n",
    "    })\n",
    "# Imprimir resultados\n",
    "for res in results:\n",
    "    print(f\"Train: {res['train_ratio']*100}%, Validation: {res['val_ratio']*100}%, Test: {res['test_ratio']*100}%\")\n",
    "    print(f\"Validation Accuracy: {res['val_accuracy']:.4f}, Test Accuracy: {res['test_accuracy']:.4f}\")\n",
    "    print()\n"
   ]
  }
 ],
 "metadata": {
  "kernelspec": {
   "display_name": "Python 3",
   "language": "python",
   "name": "python3"
  },
  "language_info": {
   "codemirror_mode": {
    "name": "ipython",
    "version": 3
   },
   "file_extension": ".py",
   "mimetype": "text/x-python",
   "name": "python",
   "nbconvert_exporter": "python",
   "pygments_lexer": "ipython3",
   "version": "3.12.6"
  }
 },
 "nbformat": 4,
 "nbformat_minor": 2
}
